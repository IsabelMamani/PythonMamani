{
 "cells": [
  {
   "cell_type": "markdown",
   "metadata": {},
   "source": [
    "# PROBLEMAS DIVERSOS"
   ]
  },
  {
   "cell_type": "markdown",
   "metadata": {},
   "source": [
    "<h3>1.</h3>\n",
    "Realizar una función que permita la carga de n alumnos. Por cada alumno se deberá preguntar el nombre completo y permitir el ingreso de 3 notas. Las notas deben estar comprendidas entre 0 y 10. Devolver el listado de alumnos."
   ]
  },
  {
   "cell_type": "code",
   "execution_count": 1,
   "metadata": {},
   "outputs": [
    {
     "name": "stdin",
     "output_type": "stream",
     "text": [
      "Cuantos alumnos desea ingresas?  4\n"
     ]
    },
    {
     "data": {
      "text/plain": [
       "4"
      ]
     },
     "execution_count": 1,
     "metadata": {},
     "output_type": "execute_result"
    }
   ],
   "source": [
    "cantidad = int(input('Cuantos alumnos desea ingresas? '))\n",
    "cantidad"
   ]
  },
  {
   "cell_type": "code",
   "execution_count": 2,
   "metadata": {},
   "outputs": [
    {
     "name": "stdin",
     "output_type": "stream",
     "text": [
      "Ingrese el nombre del alumno 1:  va\n",
      "Ingrese la nota 1 del alumno:  2\n",
      "Ingrese la nota 2 del alumno:  3\n",
      "Ingrese la nota 3 del alumno:  20\n",
      "Ingrese la nota 4 del alumno:  18\n",
      "Ingrese el nombre del alumno 2:  lu\n",
      "Ingrese la nota 1 del alumno:  3\n",
      "Ingrese la nota 2 del alumno:  6\n",
      "Ingrese la nota 3 del alumno:  9\n",
      "Ingrese la nota 4 del alumno:  19\n",
      "Ingrese el nombre del alumno 3:  glo\n",
      "Ingrese la nota 1 del alumno:  2\n",
      "Ingrese la nota 2 del alumno:  5\n",
      "Ingrese la nota 3 del alumno:  9\n",
      "Ingrese la nota 4 del alumno:  19\n",
      "Ingrese el nombre del alumno 4:  anty\n",
      "Ingrese la nota 1 del alumno:  4\n",
      "Ingrese la nota 2 del alumno:  8\n",
      "Ingrese la nota 3 del alumno:  13\n",
      "Ingrese la nota 4 del alumno:  14\n"
     ]
    }
   ],
   "source": [
    "lista_alumnos = []\n",
    "for i in range(3):\n",
    "    alumno = {}\n",
    "    \n",
    "    # ingreso nombre\n",
    "    nombre = input(f'Ingrese el nombre del alumno {i+1}: ')\n",
    "    alumno['nombre']= nombre\n",
    "    \n",
    "    #ingreso de notas\n",
    "    alumno['notas'] = []\n",
    "    \n",
    "    for n in range(3):\n",
    "        nota = float(input(f'Ingrese la nota {n+1} del alumno: '))\n",
    "        alumno['notas'].append(nota)\n",
    "    \n",
    "    #agrupando datos en lista\n",
    "    lista_alumnos.append(alumno)\n",
    "    "
   ]
  },
  {
   "cell_type": "code",
   "execution_count": 3,
   "metadata": {},
   "outputs": [
    {
     "data": {
      "text/plain": [
       "[{'nombre': 'va', 'notas': [2.0, 3.0, 20.0, 18.0]},\n",
       " {'nombre': 'lu', 'notas': [3.0, 6.0, 9.0, 19.0]},\n",
       " {'nombre': 'glo', 'notas': [2.0, 5.0, 9.0, 19.0]},\n",
       " {'nombre': 'anty', 'notas': [4.0, 8.0, 13.0, 14.0]}]"
      ]
     },
     "execution_count": 3,
     "metadata": {},
     "output_type": "execute_result"
    }
   ],
   "source": [
    "lista_alumnos"
   ]
  },
  {
   "cell_type": "code",
   "execution_count": 4,
   "metadata": {},
   "outputs": [
    {
     "data": {
      "text/plain": [
       "{'nombre': 'anty', 'notas': [4.0, 8.0, 13.0, 14.0]}"
      ]
     },
     "execution_count": 4,
     "metadata": {},
     "output_type": "execute_result"
    }
   ],
   "source": [
    "alumno"
   ]
  },
  {
   "cell_type": "code",
   "execution_count": 14,
   "metadata": {},
   "outputs": [
    {
     "name": "stdout",
     "output_type": "stream",
     "text": [
      "gonzalo 5.0\n",
      "martina 6.0\n",
      "Isabel 5.666666666666667\n"
     ]
    }
   ],
   "source": [
    "for persona in lista_alumnos:\n",
    "    print(persona['nombre'], sum(persona['notas'])/3)"
   ]
  },
  {
   "cell_type": "code",
   "execution_count": null,
   "metadata": {},
   "outputs": [],
   "source": []
  },
  {
   "cell_type": "markdown",
   "metadata": {},
   "source": [
    "### 2.\n",
    "Definir una función que dado un listado de alumnos evalúe cuántos aprobaron y cuántos desaprobaron, teniendo en cuenta que se aprueba con 4. La nota será el promedio de las 3 notas para cada alumno."
   ]
  },
  {
   "cell_type": "code",
   "execution_count": null,
   "metadata": {},
   "outputs": [],
   "source": []
  },
  {
   "cell_type": "markdown",
   "metadata": {},
   "source": [
    "### 3.\n",
    "Informar el promedio de nota del curso total."
   ]
  },
  {
   "cell_type": "code",
   "execution_count": null,
   "metadata": {},
   "outputs": [],
   "source": []
  },
  {
   "cell_type": "code",
   "execution_count": null,
   "metadata": {},
   "outputs": [],
   "source": []
  },
  {
   "cell_type": "markdown",
   "metadata": {},
   "source": [
    "### 4.\n",
    "Realizar una función que indique quién tuvo el promedio más alto y quién tuvo la nota promedio más baja."
   ]
  },
  {
   "cell_type": "code",
   "execution_count": null,
   "metadata": {},
   "outputs": [],
   "source": []
  },
  {
   "cell_type": "code",
   "execution_count": null,
   "metadata": {},
   "outputs": [],
   "source": []
  },
  {
   "cell_type": "code",
   "execution_count": null,
   "metadata": {},
   "outputs": [],
   "source": []
  },
  {
   "cell_type": "markdown",
   "metadata": {},
   "source": [
    "### 5.\n",
    "Realizar una función que permita buscar un alumno por nombre, siendo el nombre completo o parcial, y devuelva una lista con los n alumnos que concuerden con ese nombre junto con todos sus datos, incluido el promedio de sus notas."
   ]
  },
  {
   "cell_type": "code",
   "execution_count": null,
   "metadata": {},
   "outputs": [],
   "source": []
  },
  {
   "cell_type": "code",
   "execution_count": null,
   "metadata": {},
   "outputs": [],
   "source": []
  },
  {
   "cell_type": "code",
   "execution_count": null,
   "metadata": {},
   "outputs": [],
   "source": []
  },
  {
   "cell_type": "code",
   "execution_count": null,
   "metadata": {},
   "outputs": [],
   "source": []
  },
  {
   "cell_type": "code",
   "execution_count": null,
   "metadata": {},
   "outputs": [],
   "source": []
  },
  {
   "cell_type": "code",
   "execution_count": null,
   "metadata": {},
   "outputs": [],
   "source": [
    "def alumno(n):\n",
    "    notas=[]\n",
    "    nombre=[]\n",
    "    for i in range(n):\n",
    "        name= input(f'Ingrese el nombre del alumno {i+1}: ')\n",
    "        nombre.append(name)\n",
    "        nota_1 = float(input('Ingrese Nota 1: '))\n",
    "        nota_2 = float(input('Ingrese Nota 2: '))\n",
    "        nota_3 = float(input('Ingrese Nota 3: '))\n",
    "        notas.append([nota_1,nota_2,nota_3])\n",
    "    print(\"Alumnos \\t Notas\")\n",
    "    for i in range(n):\n",
    "        print(nombre[i],\"\\t \\t\",notas[i][0],notas[i][1],notas[i][2])\n",
    "n=int(input(\"Ingrese cantidad de alumnos: \"))\n",
    "alumno(n)\n"
   ]
  }
 ],
 "metadata": {
  "kernelspec": {
   "display_name": "Python 3",
   "language": "python",
   "name": "python3"
  },
  "language_info": {
   "codemirror_mode": {
    "name": "ipython",
    "version": 3
   },
   "file_extension": ".py",
   "mimetype": "text/x-python",
   "name": "python",
   "nbconvert_exporter": "python",
   "pygments_lexer": "ipython3",
   "version": "3.8.5"
  }
 },
 "nbformat": 4,
 "nbformat_minor": 4
}
